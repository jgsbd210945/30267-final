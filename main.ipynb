{
 "cells": [
  {
   "cell_type": "markdown",
   "id": "8259f829",
   "metadata": {},
   "source": [
    "## MACS 30267 Final\n",
    "Maha Adil, Angel Westbrook, Jason Gordon\n",
    "\n",
    "[Intro to final]"
   ]
  },
  {
   "cell_type": "code",
   "execution_count": null,
   "id": "bbcb13c5",
   "metadata": {},
   "outputs": [
    {
     "name": "stderr",
     "output_type": "stream",
     "text": [
      "[nltk_data] Downloading package stopwords to\n",
      "[nltk_data]     C:\\Users\\jason\\AppData\\Roaming\\nltk_data...\n",
      "[nltk_data]   Package stopwords is already up-to-date!\n",
      "[nltk_data] Downloading package punkt to\n",
      "[nltk_data]     C:\\Users\\jason\\AppData\\Roaming\\nltk_data...\n",
      "[nltk_data]   Package punkt is already up-to-date!\n"
     ]
    }
   ],
   "source": [
    "## Setup\n",
    "import pandas as pd\n",
    "import numpy as np\n",
    "import re\n",
    "\n",
    "#%pip install nltk\n",
    "import nltk\n",
    "nltk.download(\"stopwords\")\n",
    "from nltk.corpus import stopwords\n",
    "stopwords = set(stopwords.words('english'))\n",
    "\n",
    "from nltk.tokenize import word_tokenize\n",
    "nltk.download(\"punkt\")\n",
    "\n",
    "from nltk.stem import PorterStemmer\n",
    "stemmer = PorterStemmer()\n",
    "\n",
    "from nltk import FreqDist"
   ]
  },
  {
   "cell_type": "code",
   "execution_count": 42,
   "id": "d47bf409",
   "metadata": {},
   "outputs": [],
   "source": [
    "sentiment = pd.read_csv(\"Data/nltk_split.csv\")"
   ]
  },
  {
   "cell_type": "code",
   "execution_count": 43,
   "id": "7b71dfd9",
   "metadata": {},
   "outputs": [
    {
     "name": "stdout",
     "output_type": "stream",
     "text": [
      "<class 'pandas.core.frame.DataFrame'>\n",
      "RangeIndex: 163669 entries, 0 to 163668\n",
      "Data columns (total 17 columns):\n",
      " #   Column           Non-Null Count   Dtype  \n",
      "---  ------           --------------   -----  \n",
      " 0   Unnamed: 0.2     163669 non-null  int64  \n",
      " 1   Unnamed: 0.1     163669 non-null  int64  \n",
      " 2   Unnamed: 0       163669 non-null  int64  \n",
      " 3   id               163669 non-null  float64\n",
      " 4   text             163669 non-null  object \n",
      " 5   favorite_count   163669 non-null  int64  \n",
      " 6   retweet_count    163669 non-null  int64  \n",
      " 7   created_at       163669 non-null  object \n",
      " 8   coordinates      43 non-null      object \n",
      " 9   score            163669 non-null  object \n",
      " 10  neg              163669 non-null  float64\n",
      " 11  neu              163669 non-null  float64\n",
      " 12  pos              163669 non-null  float64\n",
      " 13  compound         163669 non-null  float64\n",
      " 14  created_at_date  163669 non-null  object \n",
      " 15  Unnamed: 15      0 non-null       float64\n",
      " 16  Unnamed: 16      0 non-null       float64\n",
      "dtypes: float64(7), int64(5), object(5)\n",
      "memory usage: 21.2+ MB\n"
     ]
    }
   ],
   "source": [
    "sentiment.info()\n",
    "# Not many non-null for coordinates. Should prolly kill that. Also not sure what the unnamed ones are."
   ]
  },
  {
   "cell_type": "code",
   "execution_count": 44,
   "id": "b45c1cef",
   "metadata": {},
   "outputs": [
    {
     "data": {
      "text/html": [
       "<div>\n",
       "<style scoped>\n",
       "    .dataframe tbody tr th:only-of-type {\n",
       "        vertical-align: middle;\n",
       "    }\n",
       "\n",
       "    .dataframe tbody tr th {\n",
       "        vertical-align: top;\n",
       "    }\n",
       "\n",
       "    .dataframe thead th {\n",
       "        text-align: right;\n",
       "    }\n",
       "</style>\n",
       "<table border=\"1\" class=\"dataframe\">\n",
       "  <thead>\n",
       "    <tr style=\"text-align: right;\">\n",
       "      <th></th>\n",
       "      <th>id</th>\n",
       "      <th>text</th>\n",
       "      <th>favorite_count</th>\n",
       "      <th>retweet_count</th>\n",
       "      <th>created_at</th>\n",
       "      <th>coordinates</th>\n",
       "      <th>score</th>\n",
       "      <th>neg</th>\n",
       "      <th>neu</th>\n",
       "      <th>pos</th>\n",
       "      <th>compound</th>\n",
       "      <th>created_at_date</th>\n",
       "    </tr>\n",
       "  </thead>\n",
       "  <tbody>\n",
       "    <tr>\n",
       "      <th>0</th>\n",
       "      <td>1.030000e+18</td>\n",
       "      <td>Gotta love the facts. https://t.co/bZ2G8AZuo9</td>\n",
       "      <td>0</td>\n",
       "      <td>0</td>\n",
       "      <td>2018-08-13 10:40:21+00:00</td>\n",
       "      <td>NaN</td>\n",
       "      <td>{'neg': 0.0, 'neu': 0.488, 'pos': 0.512, 'comp...</td>\n",
       "      <td>0.000</td>\n",
       "      <td>0.488</td>\n",
       "      <td>0.512</td>\n",
       "      <td>0.6369</td>\n",
       "      <td>8/13/2018</td>\n",
       "    </tr>\n",
       "    <tr>\n",
       "      <th>1</th>\n",
       "      <td>1.030000e+18</td>\n",
       "      <td>RT @ToolangiForest: A great day of action for ...</td>\n",
       "      <td>0</td>\n",
       "      <td>35</td>\n",
       "      <td>2018-08-13 10:40:10+00:00</td>\n",
       "      <td>NaN</td>\n",
       "      <td>{'neg': 0.0, 'neu': 0.651, 'pos': 0.349, 'comp...</td>\n",
       "      <td>0.000</td>\n",
       "      <td>0.651</td>\n",
       "      <td>0.349</td>\n",
       "      <td>0.8805</td>\n",
       "      <td>8/13/2018</td>\n",
       "    </tr>\n",
       "    <tr>\n",
       "      <th>2</th>\n",
       "      <td>1.030000e+18</td>\n",
       "      <td>@jonkudelka Harvey Norman reckons climate chan...</td>\n",
       "      <td>2</td>\n",
       "      <td>0</td>\n",
       "      <td>2018-08-13 10:40:43+00:00</td>\n",
       "      <td>NaN</td>\n",
       "      <td>{'neg': 0.0, 'neu': 1.0, 'pos': 0.0, 'compound...</td>\n",
       "      <td>0.000</td>\n",
       "      <td>1.000</td>\n",
       "      <td>0.000</td>\n",
       "      <td>0.0000</td>\n",
       "      <td>8/13/2018</td>\n",
       "    </tr>\n",
       "    <tr>\n",
       "      <th>3</th>\n",
       "      <td>1.030000e+18</td>\n",
       "      <td>RT @jayrosen_nyu: Why does skepticism about im...</td>\n",
       "      <td>0</td>\n",
       "      <td>52</td>\n",
       "      <td>2018-08-13 10:40:43+00:00</td>\n",
       "      <td>NaN</td>\n",
       "      <td>{'neg': 0.146, 'neu': 0.62, 'pos': 0.234, 'com...</td>\n",
       "      <td>0.146</td>\n",
       "      <td>0.620</td>\n",
       "      <td>0.234</td>\n",
       "      <td>0.5267</td>\n",
       "      <td>8/13/2018</td>\n",
       "    </tr>\n",
       "    <tr>\n",
       "      <th>4</th>\n",
       "      <td>1.030000e+18</td>\n",
       "      <td>RT @FranceinIreland: On 5th November we call a...</td>\n",
       "      <td>0</td>\n",
       "      <td>16</td>\n",
       "      <td>2018-08-13 10:41:58+00:00</td>\n",
       "      <td>NaN</td>\n",
       "      <td>{'neg': 0.095, 'neu': 0.657, 'pos': 0.248, 'co...</td>\n",
       "      <td>0.095</td>\n",
       "      <td>0.657</td>\n",
       "      <td>0.248</td>\n",
       "      <td>0.4939</td>\n",
       "      <td>8/13/2018</td>\n",
       "    </tr>\n",
       "    <tr>\n",
       "      <th>...</th>\n",
       "      <td>...</td>\n",
       "      <td>...</td>\n",
       "      <td>...</td>\n",
       "      <td>...</td>\n",
       "      <td>...</td>\n",
       "      <td>...</td>\n",
       "      <td>...</td>\n",
       "      <td>...</td>\n",
       "      <td>...</td>\n",
       "      <td>...</td>\n",
       "      <td>...</td>\n",
       "      <td>...</td>\n",
       "    </tr>\n",
       "    <tr>\n",
       "      <th>163664</th>\n",
       "      <td>9.220000e+17</td>\n",
       "      <td>#RRN https://t.co/9DTuWYbyzn E.P.A. Cancels Ta...</td>\n",
       "      <td>0</td>\n",
       "      <td>0</td>\n",
       "      <td>2017-10-23 12:31:37+00:00</td>\n",
       "      <td>NaN</td>\n",
       "      <td>{'neg': 0.16, 'neu': 0.84, 'pos': 0.0, 'compou...</td>\n",
       "      <td>0.160</td>\n",
       "      <td>0.840</td>\n",
       "      <td>0.000</td>\n",
       "      <td>-0.2263</td>\n",
       "      <td>10/23/2017</td>\n",
       "    </tr>\n",
       "    <tr>\n",
       "      <th>163665</th>\n",
       "      <td>9.220000e+17</td>\n",
       "      <td>RT @TIME: The EPA has pulled its scientists fr...</td>\n",
       "      <td>0</td>\n",
       "      <td>78</td>\n",
       "      <td>2017-10-23 12:50:34+00:00</td>\n",
       "      <td>NaN</td>\n",
       "      <td>{'neg': 0.0, 'neu': 1.0, 'pos': 0.0, 'compound...</td>\n",
       "      <td>0.000</td>\n",
       "      <td>1.000</td>\n",
       "      <td>0.000</td>\n",
       "      <td>0.0000</td>\n",
       "      <td>10/23/2017</td>\n",
       "    </tr>\n",
       "    <tr>\n",
       "      <th>163666</th>\n",
       "      <td>9.220000e+17</td>\n",
       "      <td>RT @cathmckenna: We must all take action on #C...</td>\n",
       "      <td>0</td>\n",
       "      <td>21</td>\n",
       "      <td>2017-10-23 15:10:36+00:00</td>\n",
       "      <td>NaN</td>\n",
       "      <td>{'neg': 0.0, 'neu': 1.0, 'pos': 0.0, 'compound...</td>\n",
       "      <td>0.000</td>\n",
       "      <td>1.000</td>\n",
       "      <td>0.000</td>\n",
       "      <td>0.0000</td>\n",
       "      <td>10/23/2017</td>\n",
       "    </tr>\n",
       "    <tr>\n",
       "      <th>163667</th>\n",
       "      <td>9.220000e+17</td>\n",
       "      <td>RT @TIME: The EPA has pulled its scientists fr...</td>\n",
       "      <td>0</td>\n",
       "      <td>125</td>\n",
       "      <td>2017-10-23 15:17:57+00:00</td>\n",
       "      <td>NaN</td>\n",
       "      <td>{'neg': 0.0, 'neu': 1.0, 'pos': 0.0, 'compound...</td>\n",
       "      <td>0.000</td>\n",
       "      <td>1.000</td>\n",
       "      <td>0.000</td>\n",
       "      <td>0.0000</td>\n",
       "      <td>10/23/2017</td>\n",
       "    </tr>\n",
       "    <tr>\n",
       "      <th>163668</th>\n",
       "      <td>9.220000e+17</td>\n",
       "      <td>RT @RealJamesWoods: Guarantee the mainstream m...</td>\n",
       "      <td>0</td>\n",
       "      <td>2430</td>\n",
       "      <td>2017-10-23 15:56:11+00:00</td>\n",
       "      <td>NaN</td>\n",
       "      <td>{'neg': 0.0, 'neu': 0.909, 'pos': 0.091, 'comp...</td>\n",
       "      <td>0.000</td>\n",
       "      <td>0.909</td>\n",
       "      <td>0.091</td>\n",
       "      <td>0.2500</td>\n",
       "      <td>10/23/2017</td>\n",
       "    </tr>\n",
       "  </tbody>\n",
       "</table>\n",
       "<p>163669 rows × 12 columns</p>\n",
       "</div>"
      ],
      "text/plain": [
       "                  id                                               text  \\\n",
       "0       1.030000e+18      Gotta love the facts. https://t.co/bZ2G8AZuo9   \n",
       "1       1.030000e+18  RT @ToolangiForest: A great day of action for ...   \n",
       "2       1.030000e+18  @jonkudelka Harvey Norman reckons climate chan...   \n",
       "3       1.030000e+18  RT @jayrosen_nyu: Why does skepticism about im...   \n",
       "4       1.030000e+18  RT @FranceinIreland: On 5th November we call a...   \n",
       "...              ...                                                ...   \n",
       "163664  9.220000e+17  #RRN https://t.co/9DTuWYbyzn E.P.A. Cancels Ta...   \n",
       "163665  9.220000e+17  RT @TIME: The EPA has pulled its scientists fr...   \n",
       "163666  9.220000e+17  RT @cathmckenna: We must all take action on #C...   \n",
       "163667  9.220000e+17  RT @TIME: The EPA has pulled its scientists fr...   \n",
       "163668  9.220000e+17  RT @RealJamesWoods: Guarantee the mainstream m...   \n",
       "\n",
       "        favorite_count  retweet_count                 created_at coordinates  \\\n",
       "0                    0              0  2018-08-13 10:40:21+00:00         NaN   \n",
       "1                    0             35  2018-08-13 10:40:10+00:00         NaN   \n",
       "2                    2              0  2018-08-13 10:40:43+00:00         NaN   \n",
       "3                    0             52  2018-08-13 10:40:43+00:00         NaN   \n",
       "4                    0             16  2018-08-13 10:41:58+00:00         NaN   \n",
       "...                ...            ...                        ...         ...   \n",
       "163664               0              0  2017-10-23 12:31:37+00:00         NaN   \n",
       "163665               0             78  2017-10-23 12:50:34+00:00         NaN   \n",
       "163666               0             21  2017-10-23 15:10:36+00:00         NaN   \n",
       "163667               0            125  2017-10-23 15:17:57+00:00         NaN   \n",
       "163668               0           2430  2017-10-23 15:56:11+00:00         NaN   \n",
       "\n",
       "                                                    score    neg    neu  \\\n",
       "0       {'neg': 0.0, 'neu': 0.488, 'pos': 0.512, 'comp...  0.000  0.488   \n",
       "1       {'neg': 0.0, 'neu': 0.651, 'pos': 0.349, 'comp...  0.000  0.651   \n",
       "2       {'neg': 0.0, 'neu': 1.0, 'pos': 0.0, 'compound...  0.000  1.000   \n",
       "3       {'neg': 0.146, 'neu': 0.62, 'pos': 0.234, 'com...  0.146  0.620   \n",
       "4       {'neg': 0.095, 'neu': 0.657, 'pos': 0.248, 'co...  0.095  0.657   \n",
       "...                                                   ...    ...    ...   \n",
       "163664  {'neg': 0.16, 'neu': 0.84, 'pos': 0.0, 'compou...  0.160  0.840   \n",
       "163665  {'neg': 0.0, 'neu': 1.0, 'pos': 0.0, 'compound...  0.000  1.000   \n",
       "163666  {'neg': 0.0, 'neu': 1.0, 'pos': 0.0, 'compound...  0.000  1.000   \n",
       "163667  {'neg': 0.0, 'neu': 1.0, 'pos': 0.0, 'compound...  0.000  1.000   \n",
       "163668  {'neg': 0.0, 'neu': 0.909, 'pos': 0.091, 'comp...  0.000  0.909   \n",
       "\n",
       "          pos  compound created_at_date  \n",
       "0       0.512    0.6369       8/13/2018  \n",
       "1       0.349    0.8805       8/13/2018  \n",
       "2       0.000    0.0000       8/13/2018  \n",
       "3       0.234    0.5267       8/13/2018  \n",
       "4       0.248    0.4939       8/13/2018  \n",
       "...       ...       ...             ...  \n",
       "163664  0.000   -0.2263      10/23/2017  \n",
       "163665  0.000    0.0000      10/23/2017  \n",
       "163666  0.000    0.0000      10/23/2017  \n",
       "163667  0.000    0.0000      10/23/2017  \n",
       "163668  0.091    0.2500      10/23/2017  \n",
       "\n",
       "[163669 rows x 12 columns]"
      ]
     },
     "execution_count": 44,
     "metadata": {},
     "output_type": "execute_result"
    }
   ],
   "source": [
    "data = sentiment[[\"id\", \"text\", \"favorite_count\", \"retweet_count\", \"created_at\", \"coordinates\", \"score\", \"neg\", \"neu\", \"pos\", \"compound\", \"created_at_date\"]]\n",
    "data"
   ]
  },
  {
   "cell_type": "markdown",
   "id": "56b72a2c",
   "metadata": {},
   "source": [
    "## RQ1: Splitting words by sentiment groups; analyzing content"
   ]
  },
  {
   "cell_type": "code",
   "execution_count": null,
   "id": "1c331368",
   "metadata": {},
   "outputs": [
    {
     "name": "stderr",
     "output_type": "stream",
     "text": [
      "C:\\Users\\jason\\AppData\\Local\\Temp\\ipykernel_17624\\2906992025.py:15: SettingWithCopyWarning: \n",
      "A value is trying to be set on a copy of a slice from a DataFrame.\n",
      "Try using .loc[row_indexer,col_indexer] = value instead\n",
      "\n",
      "See the caveats in the documentation: https://pandas.pydata.org/pandas-docs/stable/user_guide/indexing.html#returning-a-view-versus-a-copy\n",
      "  data['stemmed_tokens'] = data['text'].apply(clean_text)\n"
     ]
    }
   ],
   "source": [
    "def clean_text(s) -> list:\n",
    "    tokens = re.findall(r'\\b\\w+\\b', s.lower())\n",
    "\n",
    "    cleaned = []\n",
    "    for tok in tokens:\n",
    "        if tok in stopwords:\n",
    "            continue # SKIP!\n",
    "        if re.match(r\"^rt|@|http|co\", tok):\n",
    "            continue # Also skip\n",
    "        \n",
    "        stemmed = stemmer.stem(tok)\n",
    "        cleaned.append(stemmed)\n",
    "    return cleaned\n",
    "\n",
    "data['stemmed_tokens'] = data['text'].apply(clean_text)"
   ]
  },
  {
   "cell_type": "code",
   "execution_count": 56,
   "id": "cd4ac1aa",
   "metadata": {},
   "outputs": [],
   "source": [
    "all_tokens = [token for row in data['stemmed_tokens'] for token in row]\n",
    "fdist = FreqDist(all_tokens)"
   ]
  },
  {
   "cell_type": "code",
   "execution_count": 48,
   "id": "e2de6580",
   "metadata": {},
   "outputs": [],
   "source": [
    "postw = data[data['pos'] > 0.5]\n",
    "neutw = data[data['neu'] > 0.5]\n",
    "negtw = data[data['neg'] > 0.5]"
   ]
  },
  {
   "cell_type": "code",
   "execution_count": 51,
   "id": "a0984849",
   "metadata": {},
   "outputs": [],
   "source": [
    "pos_tokens = [token for row in postw['stemmed_tokens'] for token in row]\n",
    "pos_freq = FreqDist(pos_tokens)\n",
    "\n",
    "neu_tokens = [token for row in neutw['stemmed_tokens'] for token in row]\n",
    "neu_freq = FreqDist(neu_tokens)\n",
    "\n",
    "neg_tokens = [token for row in negtw['stemmed_tokens'] for token in row]\n",
    "neg_freq = FreqDist(neg_tokens)"
   ]
  },
  {
   "cell_type": "code",
   "execution_count": 64,
   "id": "f93eedf7",
   "metadata": {},
   "outputs": [
    {
     "name": "stdout",
     "output_type": "stream",
     "text": [
      "Positive Terms: [('global', 81), ('warm', 71), ('great', 61), ('thank', 48), ('love', 47), ('good', 47), ('ye', 45), ('wow', 40), ('climat', 34), ('energi', 30), ('lol', 29), ('respect', 29), ('like', 28), ('chang', 26), ('sure', 26), ('justic', 24), ('pleas', 23), ('share', 21), ('well', 20), ('ha', 19), ('pretti', 18), ('excel', 17), ('interest', 16), ('climatechang', 16), ('agre', 15), ('amp', 15), ('true', 15), ('read', 14), ('amaz', 14), ('help', 14), ('support', 13), ('opportun', 12), ('clean', 12), ('inspir', 12), ('god', 12), ('save', 12), ('nice', 12), ('awesom', 11), ('articl', 11), ('environ', 11), ('work', 11), ('healthi', 11), ('happi', 10), ('award', 10), ('join', 10), ('truth', 10), ('better', 10), ('win', 9), ('beauti', 9), ('question', 9)]\n",
      "Neutral Terms: [('climat', 67557), ('chang', 60122), ('deal', 20400), ('climatechang', 17036), ('global', 14568), ('warm', 12210), ('year', 9043), ('amp', 8656), ('say', 8213), ('n', 7380), ('new', 6890), ('trump', 6770), ('wildfir', 6385), ('california', 6336), ('peopl', 6309), ('world', 6272), ('record', 6252), ('like', 5583), ('time', 5572), ('one', 5468), ('need', 5453), ('us', 5209), ('u', 5055), ('problem', 4896), ('believ', 4814), ('fire', 4740), ('scienc', 4434), ('make', 4239), ('e', 4183), ('fight', 4172), ('real', 4170), ('canada', 4120), ('scientist', 4106), ('zink', 4087), ('healthcar', 4034), ('month', 4024), ('go', 3911), ('get', 3910), ('take', 3900), ('must', 3836), ('break', 3773), ('help', 3753), ('human', 3709), ('planet', 3644), ('trade', 3623), ('presid', 3615), ('19', 3399), ('k', 3391), ('mexico', 3361), ('iran', 3343)]\n",
      "Negative Terms: [('lie', 3154), ('obama', 414), ('clinton', 414), ('mueller', 414), ('judg', 413), ('media', 357), ('stormi', 351), ('strozk', 351), ('1', 349), ('the_unsilent_', 343), ('fuck', 197), ('climat', 171), ('chang', 154), ('motherfuck', 119), ('global', 97), ('warm', 96), ('stop', 95), ('amp', 92), ('hondadeal4vet', 80), ('litter', 80), ('ignor', 78), ('denier', 72), ('warn', 69), ('california', 63), ('realli', 63), ('sex', 63), ('assault', 63), ('summer', 60), ('hellish', 59), ('grave', 59), ('justadcohen', 57), ('incomplet', 57), ('list', 57), ('feder', 57), ('accu', 57), ('say', 48), ('kid', 43), ('die', 41), ('let', 41), ('clean', 40), ('adamcbest', 39), ('border', 39), ('patrol', 39), ('flint', 39), ('wat', 39), ('trump', 25), ('stupid', 21), ('kill', 20), ('hell', 18), ('idiot', 18)]\n"
     ]
    }
   ],
   "source": [
    "print(f\"Positive Terms: {pos_freq.most_common(50)}\")\n",
    "print(f\"Neutral Terms: {neu_freq.most_common(50)}\")\n",
    "print(f\"Negative Terms: {neg_freq.most_common(50)}\")"
   ]
  },
  {
   "cell_type": "markdown",
   "id": "d6d4df84",
   "metadata": {},
   "source": [
    "## RQ2: Can we classify sentiment from ML techniques?\n",
    "\n",
    "Idea: use the compound score (ranges from -1 to 1), and see if we can utilize the text column to predict in a classification pipeline."
   ]
  },
  {
   "cell_type": "code",
   "execution_count": 72,
   "id": "56225931",
   "metadata": {},
   "outputs": [],
   "source": [
    "# Library setup for NLP\n",
    "\n",
    "from sklearn.feature_extraction.text import CountVectorizer\n",
    "import seaborn as sns\n",
    "\n",
    "from sklearn.linear_model import LinearRegression\n",
    "from sklearn.model_selection import train_test_split"
   ]
  },
  {
   "cell_type": "code",
   "execution_count": 68,
   "id": "f392ebbe",
   "metadata": {},
   "outputs": [
    {
     "name": "stderr",
     "output_type": "stream",
     "text": [
      "C:\\Users\\jason\\AppData\\Local\\Temp\\ipykernel_17624\\3781624045.py:1: SettingWithCopyWarning: \n",
      "A value is trying to be set on a copy of a slice from a DataFrame.\n",
      "Try using .loc[row_indexer,col_indexer] = value instead\n",
      "\n",
      "See the caveats in the documentation: https://pandas.pydata.org/pandas-docs/stable/user_guide/indexing.html#returning-a-view-versus-a-copy\n",
      "  data['processed_text'] = data['stemmed_tokens'].apply(lambda tokens: ' '.join(tokens))\n"
     ]
    }
   ],
   "source": [
    "data['processed_text'] = data['stemmed_tokens'].apply(lambda tokens: ' '.join(tokens))\n",
    "vectorizer = CountVectorizer()\n",
    "X = vectorizer.fit_transform(data['processed_text'])\n",
    "y = data['compound']"
   ]
  },
  {
   "cell_type": "code",
   "execution_count": null,
   "id": "97e6d193",
   "metadata": {},
   "outputs": [
    {
     "data": {
      "text/plain": [
       "<seaborn.axisgrid.FacetGrid at 0x18707e1eb90>"
      ]
     },
     "execution_count": 71,
     "metadata": {},
     "output_type": "execute_result"
    },
    {
     "data": {
      "image/png": "[encoded data removed]",
      "text/plain": [
       "<Figure size 500x500 with 1 Axes>"
      ]
     },
     "metadata": {},
     "output_type": "display_data"
    }
   ],
   "source": [
    "sns.displot(y) # Definitely skewed towards 0, but a bit of dissonance."
   ]
  },
  {
   "cell_type": "code",
   "execution_count": 73,
   "id": "78c593d8",
   "metadata": {},
   "outputs": [],
   "source": [
    "np.random.seed(123)\n",
    "X_train, X_test, y_train, y_test = train_test_split(X, y)\n",
    "X_train, X_validate, y_train, y_validate = train_test_split(X_train, y_train)"
   ]
  },
  {
   "cell_type": "code",
   "execution_count": 74,
   "id": "f0228c92",
   "metadata": {},
   "outputs": [],
   "source": [
    "## Need to set up Linear regression\n",
    "lin_reg = LinearRegression()\n",
    "lin_model = lin_reg.fit(X_train, y_train)\n",
    "y_pred = lin_reg.predict(X_validate)"
   ]
  },
  {
   "cell_type": "code",
   "execution_count": 75,
   "id": "5d2119c2",
   "metadata": {},
   "outputs": [
    {
     "name": "stdout",
     "output_type": "stream",
     "text": [
      "R² score: -2.2467\n"
     ]
    }
   ],
   "source": [
    "score = lin_model.score(X_test, y_test)\n",
    "print(f\"R² score: {score:.4f}\")"
   ]
  }
 ],
 "metadata": {
  "kernelspec": {
   "display_name": ".conda",
   "language": "python",
   "name": "python3"
  },
  "language_info": {
   "codemirror_mode": {
    "name": "ipython",
    "version": 3
   },
   "file_extension": ".py",
   "mimetype": "text/x-python",
   "name": "python",
   "nbconvert_exporter": "python",
   "pygments_lexer": "ipython3",
   "version": "3.11.11"
  }
 },
 "nbformat": 4,
 "nbformat_minor": 5
}
